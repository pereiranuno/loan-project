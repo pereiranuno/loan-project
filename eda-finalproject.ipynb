{
 "cells": [
  {
   "cell_type": "markdown",
   "metadata": {},
   "source": [
    "# Final Project - Loans Dataset\n",
    "\n",
    "Welcome to the final step on the Exploratory Data Analysis (EDA) module. Congratulations! This is the final project!\n",
    "\n",
    "\n",
    "## Instructions\n",
    "\n",
    "The objective of this project is to explore and solve problems on a Loans Dataset (`final_project_lending.csv`). This dataset contains information about credit applicants. Banks use this kind of datasets to create models to help on deciding on who to accept/refuse for a loan. Generally, after cleaning and organizing the dataset, the patterns of a good / bad applicant are learned by machine learning models.\n",
    "\n",
    "Explore, test, evaluate, think, be sceptic! This is Data Science!\n",
    "\n",
    "\n",
    "## Details on the dataset\n",
    "\n",
    "The Target (Label) name is `bad_loan`, where $1$ means the observation is a default (person that ended up not paying the loan), and $0$ means the observation is a non-default (person that ended up paying the loan).\n",
    "\n",
    "All the other features are characteristics of the applicant. \n",
    "\n",
    "\n",
    "## Delivery of Project\n",
    "\n",
    "This jupyter notebook is to be delivered to evaluate your knowledge on the Exploratory Data Analysis module at Rumos, **before the FINAL DATE (end of day 16-02-2025)** agreed with the professor. Please add your name and e-mail next.\n",
    "\n",
    "**Student Name**: \"NAME_HERE\"  \n",
    "**E-mail**: \"EMAIL_HERE\"\n",
    "\n",
    "\n",
    "## Plagiarism\n",
    "\n",
    "Always remember that you are here to learn. Discussions on the final project are highly incentivised but please do not share your work. The struggle to solve the problems is needed in order to become a true Data Scientist. By allowing others to use your code you are making the world a worse place: you are not truly helping your colleague, and you are not promoting discussions on the topic.\n",
    "\n",
    "In case you need help, or just want to discuss some project-related topics, reach out to me either through email or through a Slack direct message."
   ]
  },
  {
   "cell_type": "code",
   "execution_count": 2,
   "metadata": {},
   "outputs": [],
   "source": [
    "# NOTE: You can import any library you might find useful besides the following ones\n",
    "import pandas as pd\n",
    "import numpy as np\n",
    "\n",
    "import matplotlib.pyplot as plt\n",
    "import seaborn as sns\n",
    "import plotly.express as px"
   ]
  },
  {
   "cell_type": "code",
   "execution_count": 3,
   "metadata": {},
   "outputs": [],
   "source": [
    "# RUN this cell: load the dataset (do NOT delete this cell)\n",
    "data = pd.read_csv('final_project_lending.csv', low_memory=False)"
   ]
  },
  {
   "cell_type": "markdown",
   "metadata": {},
   "source": [
    "# Objectives\n",
    "\n",
    "Please solve the following exercises by creating a markdown cell with **# EXERCISE >>NUMBER<<**  just before you solve it (you can use the number of cells you need after that).\n",
    "\n",
    "1. Take a **quick look** at your dataset. If you could say something about it in two sentences, what would it be?\n",
    "\n",
    "2. **Data Visualization**. *A picture is worth a thousand words.* Do not forget all the tips made on the Data Visualization class! Visualize the data as much as needed to truly understand the data. You should, at the least do the following (but do visualize more than these, as that knowledge will help you on the next tasks):\n",
    "\n",
    "    2.1. Pick two numerical variables. Create a **scatter plot**. Describe what you see.  \n",
    "    2.2. Create a **bar plot** from the data that you think is relevant. Explain.  \n",
    "    2.3. Create a beautiful **heatmap**. Remember what are they useful to show (correlations...)?  \n",
    "    2.4. Create a **distribution plot** with a feature broken down by target. Don't forget to add some alpha.  \n",
    "    2.5. (Optional, but incentivized) Create an additional **insightful plot**. Describe the insight.  \n",
    "\n",
    "3. Fully characterize, in term of **descriptive statistics**, the variables `id`, `annual_inc` and `grade`. -> revise these.\n",
    "\n",
    "4. Correlation.\n",
    "\n",
    "    4.1. What are the two most correlated numerical features (Spearman) - absolute number?  \n",
    "    4.2. What is the numerical feature most correlated with the target (Pearson)?  \n",
    "\n",
    "5. Are there any **outliers**? If there are, solve them. **Justify** all detected outliers, and **justify** the method you chose to eliminate. \n",
    "\n",
    "6. Deal with the **missing values**, along with anomalies. Detect and eliminate them. Remember: not all missing values are represented by a `np.nan`.\n",
    "\n",
    "7. **Feature Selection**. Select at least two numerical features to drop. Justify the method(s) you used, and why you chose those variables. (Note: you can drop more variables, either categorical or numerical.)\n",
    "\n",
    "8. **Pipelines** (scikit-learn). Load the dataset again and **select only the numerical variables**.\n",
    "\n",
    "    8.1. Create a pipeline with three steps: (1) [SimpleImputer](https://scikit-learn.org/stable/modules/generated/sklearn.impute.SimpleImputer.html) with `strategy=’median’`; (2) One Scaler you may know; (3) [Principal Component Analysis](http://scikit-learn.org/stable/modules/generated/sklearn.decomposition.PCA.html) (with final 5 features)  \n",
    "    8.2. Fit and Transform your dataset.  \n",
    "    8.3. Comment what you obtained.  \n",
    "\n",
    "9. Create a new Pipeline with, **at least, one Transformer created by you**. This Transformer should help on solving one of the issues the dataset has such as for example, outliers, dropping columns based on any particular characteristic, encoding, etc. Then, fit and transform the dataset. NOTE: you can choose to work only with **numerical** or **categorical** variables to ease your work.\n",
    "\n",
    "\n",
    "## Evaluation\n",
    "Points (of a total of 100%):\n",
    "1. 5%  \n",
    "2. 20%  \n",
    "3. 10%  \n",
    "4. 10%  \n",
    "5. 10%  \n",
    "6. 10%  \n",
    "7. 10%  \n",
    "8. 10% \n",
    "9. 5%\n",
    "\n",
    "Final 10% for additional effort and conclusions beyond what was asked (give your _extra mile_).\n",
    "\n",
    "## Important notes\n",
    "1. Data Science is all about *flow*. Keep your analysis work-flow consistent.  \n",
    "2. When it is requested you to *describe* something, please be 1. sceptic, 2. objective, and 3. succinct! \n",
    "3. If you don't know: search, invent, study, but please don't leave any exercise blank.\n",
    "\n",
    "### Good luck!\n",
    "# 3, 2, 1, GO! GO! GO!"
   ]
  },
  {
   "cell_type": "markdown",
   "metadata": {},
   "source": [
    "# EXERCISE 1"
   ]
  },
  {
   "cell_type": "code",
   "execution_count": 3,
   "metadata": {},
   "outputs": [],
   "source": [
    "# Solve here..."
   ]
  },
  {
   "cell_type": "markdown",
   "metadata": {},
   "source": [
    "# EXERCISE 2"
   ]
  },
  {
   "cell_type": "code",
   "execution_count": null,
   "metadata": {},
   "outputs": [],
   "source": []
  },
  {
   "cell_type": "markdown",
   "metadata": {},
   "source": [
    "# Exercise 3"
   ]
  },
  {
   "cell_type": "code",
   "execution_count": null,
   "metadata": {},
   "outputs": [],
   "source": []
  },
  {
   "cell_type": "markdown",
   "metadata": {},
   "source": [
    "# Exercise 4"
   ]
  },
  {
   "cell_type": "code",
   "execution_count": null,
   "metadata": {},
   "outputs": [],
   "source": []
  },
  {
   "cell_type": "markdown",
   "metadata": {},
   "source": [
    "# Exercise 5"
   ]
  },
  {
   "cell_type": "code",
   "execution_count": null,
   "metadata": {},
   "outputs": [],
   "source": []
  },
  {
   "cell_type": "markdown",
   "metadata": {},
   "source": [
    "# Exercise 6"
   ]
  },
  {
   "cell_type": "code",
   "execution_count": null,
   "metadata": {},
   "outputs": [],
   "source": []
  },
  {
   "cell_type": "markdown",
   "metadata": {},
   "source": [
    "# Exercise 7"
   ]
  },
  {
   "cell_type": "code",
   "execution_count": null,
   "metadata": {},
   "outputs": [],
   "source": []
  },
  {
   "cell_type": "markdown",
   "metadata": {},
   "source": [
    "# Exercise 8"
   ]
  },
  {
   "cell_type": "code",
   "execution_count": null,
   "metadata": {},
   "outputs": [],
   "source": []
  },
  {
   "cell_type": "markdown",
   "metadata": {},
   "source": [
    "# Exercise 9"
   ]
  },
  {
   "cell_type": "code",
   "execution_count": null,
   "metadata": {},
   "outputs": [],
   "source": []
  }
 ],
 "metadata": {
  "kernelspec": {
   "display_name": "Python 3",
   "language": "python",
   "name": "python3"
  },
  "language_info": {
   "codemirror_mode": {
    "name": "ipython",
    "version": 3
   },
   "file_extension": ".py",
   "mimetype": "text/x-python",
   "name": "python",
   "nbconvert_exporter": "python",
   "pygments_lexer": "ipython3",
   "version": "3.10.8"
  }
 },
 "nbformat": 4,
 "nbformat_minor": 4
}
